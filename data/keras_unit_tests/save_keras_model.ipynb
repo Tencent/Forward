{
 "cells": [
  {
   "cell_type": "code",
   "execution_count": 1,
   "metadata": {
    "scrolled": true
   },
   "outputs": [],
   "source": [
    "import tensorflow as tf\n",
    "import tensorflow.keras as keras\n",
    "from tensorflow.python.framework.graph_util import convert_variables_to_constants\n",
    "import numpy as np"
   ]
  },
  {
   "cell_type": "code",
   "execution_count": 2,
   "metadata": {},
   "outputs": [],
   "source": [
    "def SaveKerasModel(model, name):\n",
    "    print(model.to_json())\n",
    "    model.save(name)"
   ]
  },
  {
   "cell_type": "code",
   "execution_count": null,
   "metadata": {},
   "outputs": [],
   "source": [
    "# tf.keras.layers.Activation(activation, **kwargs)\n",
    "def ActivationModel():\n",
    "    x = keras.Input(shape=(24,24,3), name='input')\n",
    "    sigmoid = keras.layers.Activation('sigmoid')(x)\n",
    "    relu = keras.layers.Activation('relu')(x)\n",
    "    tanh = keras.layers.Activation('tanh')(x)\n",
    "    elu = keras.layers.Activation('elu')(x)\n",
    "    return keras.Model(x, (sigmoid, relu, tanh, elu), name='activation')\n",
    "\n",
    "model = ActivationModel()\n",
    "SaveKerasModel(model, 'activation.h5')"
   ]
  },
  {
   "cell_type": "code",
   "execution_count": null,
   "metadata": {},
   "outputs": [],
   "source": [
    "# tf.keras.layers.AveragePooling2D(pool_size=(2, 2), strides=None, padding='valid', data_format=None, **kwargs)\n",
    "def AveragePoolingModel():\n",
    "    x = keras.Input(shape=(29,17,3), name='input')\n",
    "    valid = keras.layers.AveragePooling2D((2,3), (1,4), 'valid')(x)\n",
    "    same = keras.layers.AveragePooling2D((3,2), (2,3), 'same')(x)\n",
    "    return keras.Model(x, (valid, same))\n",
    "\n",
    "model = AveragePoolingModel()\n",
    "SaveKerasModel(model, 'average_pooling.h5')"
   ]
  },
  {
   "cell_type": "code",
   "execution_count": null,
   "metadata": {},
   "outputs": [],
   "source": [
    "# tf.keras.layers.BatchNormalization(\n",
    "#     axis=-1, momentum=0.99, epsilon=0.001, center=True, scale=True,\n",
    "#     beta_initializer='zeros', gamma_initializer='ones',\n",
    "#     moving_mean_initializer='zeros', moving_variance_initializer='ones',\n",
    "#     beta_regularizer=None, gamma_regularizer=None, beta_constraint=None,\n",
    "#     gamma_constraint=None, renorm=False, renorm_clipping=None, renorm_momentum=0.99,\n",
    "#     fused=None, trainable=True, virtual_batch_size=None, adjustment=None, name=None,\n",
    "#     **kwargs\n",
    "# )\n",
    "def BatchNormModel():\n",
    "    x = keras.Input(shape=(24,24,3))\n",
    "    y = keras.layers.BatchNormalization(3, trainable=False, input_shape=(24,24,3))(x)\n",
    "    return keras.Model(x, (y), name=\"batch_norm\")\n",
    "\n",
    "model = BatchNormModel()\n",
    "SaveKerasModel(model, 'batch_norm.h5')"
   ]
  },
  {
   "cell_type": "code",
   "execution_count": null,
   "metadata": {},
   "outputs": [],
   "source": [
    "#tf.keras.layers.Concatenate(axis=-1, **kwargs)\n",
    "def ConcatenateModel():\n",
    "    input1 = keras.Input(shape=(23,25,3),name='input1')\n",
    "    input2 = keras.Input(shape=(23,25,3),name='input2')\n",
    "    input3 = keras.Input(shape=(23,25,3),name='input3')\n",
    "    cat1 = keras.layers.Concatenate(1)([input1, input2, input3])\n",
    "    cat2 = keras.layers.Concatenate(2)([input1, input2, input3])\n",
    "    cat3 = keras.layers.Concatenate(3)([input1, input2, input3])\n",
    "    return keras.Model((input1, input2, input3), (cat1, cat2, cat3), name='concatenate')\n",
    "\n",
    "model = ConcatenateModel()\n",
    "SaveKerasModel(model, 'concatenate.h5')"
   ]
  },
  {
   "cell_type": "code",
   "execution_count": null,
   "metadata": {},
   "outputs": [],
   "source": [
    "# keras.layers.Conv1D(filters, kernel_size, strides=1, padding='valid', data_format='channels_last', dilation_rate=1, activation=None, use_bias=True, kernel_initializer='glorot_uniform', bias_initializer='zeros', kernel_regularizer=None, bias_regularizer=None, activity_regularizer=None, kernel_constraint=None, bias_constraint=None)\n",
    "def Conv1DModel():\n",
    "    x = keras.Input(shape=(23,29))\n",
    "    y = keras.layers.Convolution1D(7, 3, 1, 'same', trainable=False)(x)\n",
    "    return keras.Model(x, (y), name=\"conv1d\")\n",
    "\n",
    "model = Conv1DModel()\n",
    "SaveKerasModel(model, 'conv1d.h5')"
   ]
  },
  {
   "cell_type": "code",
   "execution_count": null,
   "metadata": {},
   "outputs": [],
   "source": [
    "# keras.layers.Conv1D(filters, kernel_size, strides=1, padding='valid', data_format='channels_last', dilation_rate=1, activation=None, use_bias=True, kernel_initializer='glorot_uniform', bias_initializer='zeros', kernel_regularizer=None, bias_regularizer=None, activity_regularizer=None, kernel_constraint=None, bias_constraint=None)\n",
    "def GroupConv1DModel():\n",
    "    x = keras.Input(shape=(48,768))\n",
    "    xs = keras.layers.Lambda(lambda tensor: tf.split(tensor, 4, -1))(x)\n",
    "    y1 = keras.layers.Convolution1D(768, 1, 1, 'same', trainable=False)(xs[0])\n",
    "    y2 = keras.layers.Convolution1D(768, 1, 1, 'same', trainable=False)(xs[1])\n",
    "    y3 = keras.layers.Convolution1D(768, 1, 1, 'same', trainable=False)(xs[2])\n",
    "    y4 = keras.layers.Convolution1D(768, 1, 1, 'same', trainable=False)(xs[3])\n",
    "    y = keras.layers.Concatenate(axis=-1)([y1, y2, y3, y4])\n",
    "    return keras.Model(x, (y), name=\"group_conv1d\")\n",
    "\n",
    "model = GroupConv1DModel()\n",
    "SaveKerasModel(model, 'group_conv1d.h5')"
   ]
  },
  {
   "cell_type": "code",
   "execution_count": null,
   "metadata": {},
   "outputs": [],
   "source": [
    "# keras.layers.Conv2D(filters, kernel_size, strides=(1, 1), padding='valid', data_format=None, dilation_rate=(1, 1), activation=None, use_bias=True, kernel_initializer='glorot_uniform', bias_initializer='zeros', kernel_regularizer=None, bias_regularizer=None, activity_regularizer=None, kernel_constraint=None, bias_constraint=None)\n",
    "def ConvModel():\n",
    "    x = keras.Input(shape=(23,29,3))\n",
    "    y = keras.layers.Convolution2D(7, (4,3), (3,2), 'same', trainable=False)(x)\n",
    "    return keras.Model(x, (y), name=\"conv2d\")\n",
    "\n",
    "model = ConvModel()\n",
    "SaveKerasModel(model, 'conv2d.h5')"
   ]
  },
  {
   "cell_type": "code",
   "execution_count": null,
   "metadata": {},
   "outputs": [],
   "source": [
    "def SplitModel():\n",
    "    x = keras.Input(shape=(13,20))\n",
    "    xs = keras.layers.Lambda(lambda tensor: tf.split(tensor, 4, -1))(x)\n",
    "    return keras.Model(x, xs, name=\"split\")\n",
    "\n",
    "model = SplitModel()\n",
    "SaveKerasModel(model, 'split.h5')"
   ]
  },
  {
   "cell_type": "code",
   "execution_count": null,
   "metadata": {},
   "outputs": [],
   "source": [
    "# keras.layers.Cropping2D(cropping=((0, 0), (0, 0)), data_format=None)\n",
    "def Cropping2DModel():\n",
    "    x = keras.Input(shape=(23,29,3))\n",
    "    y = keras.layers.Cropping2D(((4,1), (3,2)))(x)\n",
    "    return keras.Model(x, (y), name=\"cropping2d\")\n",
    "\n",
    "model = Cropping2DModel()\n",
    "SaveKerasModel(model, 'cropping2d.h5')"
   ]
  },
  {
   "cell_type": "code",
   "execution_count": null,
   "metadata": {},
   "outputs": [],
   "source": [
    "def ConvActivationModel():\n",
    "    x = keras.Input(shape=(23,29,3))\n",
    "    y = keras.layers.Convolution2D(7, (4,3), (3,2), 'same', activation='relu', trainable=False)(x)\n",
    "    return keras.Model(x, (y), name=\"conv2d_activation\")\n",
    "\n",
    "model = ConvActivationModel()\n",
    "SaveKerasModel(model, 'conv2d_activation.h5')"
   ]
  },
  {
   "cell_type": "code",
   "execution_count": null,
   "metadata": {},
   "outputs": [],
   "source": [
    "# tf.keras.layers.Conv2DTranspose(\n",
    "#     filters, kernel_size, strides=(1, 1), padding='valid', output_padding=None,\n",
    "#     data_format=None, dilation_rate=(1, 1), activation=None, use_bias=True,\n",
    "#     kernel_initializer='glorot_uniform', bias_initializer='zeros',\n",
    "#     kernel_regularizer=None, bias_regularizer=None, activity_regularizer=None,\n",
    "#     kernel_constraint=None, bias_constraint=None, **kwargs\n",
    "# )\n",
    "def DeconvModel():\n",
    "    x = keras.Input(shape=(24,24,3))\n",
    "    y = keras.layers.Conv2DTranspose(7, (4,3), (3,2), 'same', (1,1), trainable=False)(x)\n",
    "    return keras.Model(x, (y), name=\"deconv2d\")\n",
    "\n",
    "\n",
    "model = DeconvModel()\n",
    "SaveKerasModel(model, 'deconv2d.h5')"
   ]
  },
  {
   "cell_type": "code",
   "execution_count": null,
   "metadata": {},
   "outputs": [],
   "source": [
    "# tf.keras.layers.Dense(\n",
    "#    units, activation=None, use_bias=True, kernel_initializer='glorot_uniform',\n",
    "#    bias_initializer='zeros', kernel_regularizer=None, bias_regularizer=None,\n",
    "#    activity_regularizer=None, kernel_constraint=None, bias_constraint=None,\n",
    "#    **kwargs\n",
    "#)\n",
    "def DenseModel():\n",
    "    x = keras.Input(shape=(784,))\n",
    "    y = keras.layers.Dense(10)(x)\n",
    "    return keras.Model(x, (y), name=\"dense\")\n",
    "\n",
    "model = DenseModel()\n",
    "SaveKerasModel(model, 'dense.h5')"
   ]
  },
  {
   "cell_type": "code",
   "execution_count": null,
   "metadata": {},
   "outputs": [],
   "source": [
    "# keras.layers.DepthwiseConv2D(kernel_size, strides=(1, 1), padding='valid', depth_multiplier=1, data_format=None, dilation_rate=(1, 1), activation=None, use_bias=True, depthwise_initializer='glorot_uniform', bias_initializer='zeros', depthwise_regularizer=None, bias_regularizer=None, activity_regularizer=None, depthwise_constraint=None, bias_constraint=None)\n",
    "def DepthwiseConv2DModel():\n",
    "    x = keras.Input(shape=(23,29,11))\n",
    "    y = keras.layers.DepthwiseConv2D((3,3), (2,2), 'same', trainable=False)(x)\n",
    "    return keras.Model(x, (y), name=\"depthwise_conv2d\")\n",
    "\n",
    "model = DepthwiseConv2DModel()\n",
    "SaveKerasModel(model, 'depthwise_conv2d.h5')"
   ]
  },
  {
   "cell_type": "code",
   "execution_count": null,
   "metadata": {},
   "outputs": [],
   "source": [
    "# tf.keras.layers.Dropout(rate, noise_shape=None, seed=None, **kwargs)\n",
    "def DropoutModel():\n",
    "    x = keras.Input(shape=(24,24,3))\n",
    "    y = keras.layers.Dropout(0.5)(x)\n",
    "    return keras.Model(x, (y), name=\"dropout\")\n",
    "\n",
    "model = DropoutModel()\n",
    "SaveKerasModel(model, 'dropout.h5')"
   ]
  },
  {
   "cell_type": "code",
   "execution_count": null,
   "metadata": {},
   "outputs": [],
   "source": [
    "#tf.keras.layers.Flatten(data_format=None, **kwargs)\n",
    "def FlattenModel():\n",
    "    x = keras.Input(shape=(24,24,3))\n",
    "    y = keras.layers.Flatten()(x)\n",
    "    return keras.Model(x, (y), name=\"flatten\")\n",
    "\n",
    "model = FlattenModel()\n",
    "SaveKerasModel(model, 'flatten.h5')"
   ]
  },
  {
   "cell_type": "code",
   "execution_count": null,
   "metadata": {},
   "outputs": [],
   "source": [
    "# tf.keras.layers.LeakyReLU(alpha=0.3, **kwargs)\n",
    "def LeakyReLUModel():\n",
    "    x = keras.Input(shape=(24,24,3))\n",
    "    y = keras.layers.LeakyReLU(0.2)(x)\n",
    "    return keras.Model(x, (y), name=\"leaky_relu\")\n",
    "\n",
    "model = LeakyReLUModel()\n",
    "SaveKerasModel(model, 'leaky_relu.h5')"
   ]
  },
  {
   "cell_type": "code",
   "execution_count": null,
   "metadata": {},
   "outputs": [],
   "source": [
    "# tf.keras.layers.MaxPool2D(pool_size=(2, 2), strides=None, padding='valid', data_format=None, **kwargs)\n",
    "def MaxPoolModel():\n",
    "    x = keras.Input(shape=(13,33,3), name='input')\n",
    "    valid = keras.layers.MaxPool2D((5,3), (3,2), 'valid')(x)\n",
    "    same = keras.layers.MaxPool2D((3,2), (4,3), 'same')(x)\n",
    "    return keras.Model(x, (valid, same))\n",
    "\n",
    "model = MaxPoolModel()\n",
    "SaveKerasModel(model, 'max_pooling.h5')"
   ]
  },
  {
   "cell_type": "code",
   "execution_count": null,
   "metadata": {},
   "outputs": [],
   "source": [
    "# tf.keras.layers.Permute(dims, **kwargs)\n",
    "def PermuteModel():\n",
    "    x = keras.Input(shape=(12,24,3))\n",
    "    y = keras.layers.Permute((1,3,2))(x)\n",
    "    return keras.Model(x, (y), name=\"permute\")\n",
    "\n",
    "model = PermuteModel()\n",
    "SaveKerasModel(model, 'permute.h5')"
   ]
  },
  {
   "cell_type": "code",
   "execution_count": null,
   "metadata": {},
   "outputs": [],
   "source": [
    "# tf.keras.layers.PReLU(\n",
    "#    alpha_initializer='zeros', alpha_regularizer=None, alpha_constraint=None,\n",
    "#    shared_axes=None, **kwargs\n",
    "#)\n",
    "def PReLUModel():\n",
    "    x = keras.Input(shape=(12,24,3))\n",
    "    y = keras.layers.PReLU()(x)\n",
    "    return keras.Model(x, (y), name=\"prelu\")\n",
    "\n",
    "model = PReLUModel()\n",
    "SaveKerasModel(model, 'prelu.h5')"
   ]
  },
  {
   "cell_type": "code",
   "execution_count": null,
   "metadata": {},
   "outputs": [],
   "source": [
    "# tf.keras.layers.Reshape(target_shape, **kwargs)\n",
    "def ReshapeModel():\n",
    "    x = keras.Input(shape=(12,24,3))\n",
    "    y = keras.layers.Reshape((18,16,3))(x)\n",
    "    return keras.Model(x, (y), name=\"reshape\")\n",
    "\n",
    "model = ReshapeModel()\n",
    "SaveKerasModel(model, 'reshape.h5')"
   ]
  },
  {
   "cell_type": "code",
   "execution_count": null,
   "metadata": {},
   "outputs": [],
   "source": [
    "# keras.layers.SeparableConv2D(filters, kernel_size, strides=(1, 1), padding='valid', data_format=None, dilation_rate=(1, 1), depth_multiplier=1, activation=None, use_bias=True, depthwise_initializer='glorot_uniform', pointwise_initializer='glorot_uniform', bias_initializer='zeros', depthwise_regularizer=None, pointwise_regularizer=None, bias_regularizer=None, activity_regularizer=None, depthwise_constraint=None, pointwise_constraint=None, bias_constraint=None)\n",
    "def SeparableConv2DModel():\n",
    "    x = keras.Input(shape=(23,29,11))\n",
    "    y1 = keras.layers.SeparableConv2D(31, (3,3), (2,2), 'same', trainable=False)(x)\n",
    "    y2 = keras.layers.SeparableConv2D(31, (1,1), (1,1), 'valid', use_bias=False, trainable=False)(x)\n",
    "    return keras.Model(x, (y1, y2), name=\"separable_conv2d\")\n",
    "\n",
    "model = SeparableConv2DModel()\n",
    "SaveKerasModel(model, 'separable_conv2d.h5')"
   ]
  },
  {
   "cell_type": "code",
   "execution_count": null,
   "metadata": {},
   "outputs": [],
   "source": [
    "# tf.keras.layers.Softmax(axis=-1, **kwargs)\n",
    "def SoftmaxModel():\n",
    "    x = keras.Input(shape=(12,24,3))\n",
    "    y = keras.layers.Softmax(-1)(x)\n",
    "    return keras.Model(x, (y), name=\"softmax\")\n",
    "\n",
    "model = SoftmaxModel()\n",
    "SaveKerasModel(model, 'softmax.h5')"
   ]
  },
  {
   "cell_type": "code",
   "execution_count": null,
   "metadata": {},
   "outputs": [],
   "source": [
    "# tf.keras.layers.UpSampling2D(size=(2, 2), data_format=None, interpolation='nearest', **kwargs)\n",
    "def UpSamplingBilinear2DModel():\n",
    "    x = keras.Input(shape=(12,24,3))\n",
    "    y = keras.layers.UpSampling2D((2,3), 'channels_last', 'bilinear')(x)\n",
    "    return keras.Model(x, (y), name=\"upsampling_bilinear_2d\")\n",
    "\n",
    "model = UpSamplingBilinear2DModel()\n",
    "SaveKerasModel(model, 'upsampling_bilinear_2d.h5')"
   ]
  },
  {
   "cell_type": "code",
   "execution_count": null,
   "metadata": {},
   "outputs": [],
   "source": [
    "# tf.keras.layers.UpSampling2D(size=(2, 2), data_format=None, interpolation='nearest', **kwargs)\n",
    "def UpSamplingNearest2DModel():\n",
    "    x = keras.Input(shape=(12,24,3))\n",
    "    y = keras.layers.UpSampling2D((2,3), 'channels_last', 'nearest')(x)\n",
    "    return keras.Model(x, (y), name=\"upsampling_nearest_2d\")\n",
    "\n",
    "\n",
    "model = UpSamplingNearest2DModel()\n",
    "SaveKerasModel(model, 'upsampling_nearest_2d.h5')"
   ]
  },
  {
   "cell_type": "code",
   "execution_count": null,
   "metadata": {},
   "outputs": [],
   "source": [
    "# tf.keras.layers.ZeroPadding2D(padding=(1, 1), data_format=None, **kwargs)\n",
    "def ZeroPadding2DModel():\n",
    "    x = keras.Input(shape=(12,24,3))\n",
    "    y1 = keras.layers.ZeroPadding2D(((2,3),(1,4)))(x)\n",
    "    y2 = keras.layers.ZeroPadding2D((1,3))(x)\n",
    "    y3 = keras.layers.ZeroPadding2D(2)(x)\n",
    "    y4 = keras.layers.ZeroPadding2D((0,2))(x)\n",
    "    return keras.Model(x, (y1,y2,y3,y4), name=\"zero_padding_2d\")\n",
    "\n",
    "model = ZeroPadding2DModel()\n",
    "SaveKerasModel(model, 'zero_padding_2d.h5')"
   ]
  },
  {
   "cell_type": "code",
   "execution_count": 4,
   "metadata": {
    "scrolled": true
   },
   "outputs": [
    {
     "name": "stdout",
     "output_type": "stream",
     "text": [
      "{\"class_name\": \"Model\", \"config\": {\"name\": \"arithmetic\", \"layers\": [{\"name\": \"input1\", \"class_name\": \"InputLayer\", \"config\": {\"batch_input_shape\": [null, 24, 24, 3], \"dtype\": \"float32\", \"sparse\": false, \"ragged\": false, \"name\": \"input1\"}, \"inbound_nodes\": []}, {\"name\": \"input2\", \"class_name\": \"InputLayer\", \"config\": {\"batch_input_shape\": [null, 24, 24, 3], \"dtype\": \"float32\", \"sparse\": false, \"ragged\": false, \"name\": \"input2\"}, \"inbound_nodes\": []}, {\"name\": \"add_1\", \"class_name\": \"Add\", \"config\": {\"name\": \"add_1\", \"trainable\": true, \"dtype\": \"float32\"}, \"inbound_nodes\": [[[\"input1\", 0, 0, {}], [\"input2\", 0, 0, {}]]]}, {\"name\": \"subtract_1\", \"class_name\": \"Subtract\", \"config\": {\"name\": \"subtract_1\", \"trainable\": true, \"dtype\": \"float32\"}, \"inbound_nodes\": [[[\"input1\", 0, 0, {}], [\"input2\", 0, 0, {}]]]}, {\"name\": \"multiply_1\", \"class_name\": \"Multiply\", \"config\": {\"name\": \"multiply_1\", \"trainable\": true, \"dtype\": \"float32\"}, \"inbound_nodes\": [[[\"input1\", 0, 0, {}], [\"input2\", 0, 0, {}]]]}, {\"name\": \"tf_op_layer_Greater_1\", \"class_name\": \"TensorFlowOpLayer\", \"config\": {\"name\": \"Greater_1\", \"trainable\": true, \"dtype\": null, \"node_def\": {\"name\": \"Greater_1\", \"op\": \"Greater\", \"input\": [\"input1_1\", \"input2_1\"], \"attr\": {\"T\": {\"type\": \"DT_FLOAT\"}}}, \"constants\": {}}, \"inbound_nodes\": [[[\"input1\", 0, 0, {}], [\"input2\", 0, 0, {}]]]}, {\"name\": \"tf_op_layer_Less_1\", \"class_name\": \"TensorFlowOpLayer\", \"config\": {\"name\": \"Less_1\", \"trainable\": true, \"dtype\": null, \"node_def\": {\"name\": \"Less_1\", \"op\": \"Less\", \"input\": [\"input1_1\", \"input2_1\"], \"attr\": {\"T\": {\"type\": \"DT_FLOAT\"}}}, \"constants\": {}}, \"inbound_nodes\": [[[\"input1\", 0, 0, {}], [\"input2\", 0, 0, {}]]]}, {\"name\": \"tf_op_layer_Maximum_1\", \"class_name\": \"TensorFlowOpLayer\", \"config\": {\"name\": \"Maximum_1\", \"trainable\": true, \"dtype\": null, \"node_def\": {\"name\": \"Maximum_1\", \"op\": \"Maximum\", \"input\": [\"input1_1\", \"input2_1\"], \"attr\": {\"T\": {\"type\": \"DT_FLOAT\"}}}, \"constants\": {}}, \"inbound_nodes\": [[[\"input1\", 0, 0, {}], [\"input2\", 0, 0, {}]]]}, {\"name\": \"tf_op_layer_Minimum_1\", \"class_name\": \"TensorFlowOpLayer\", \"config\": {\"name\": \"Minimum_1\", \"trainable\": true, \"dtype\": null, \"node_def\": {\"name\": \"Minimum_1\", \"op\": \"Minimum\", \"input\": [\"input1_1\", \"input2_1\"], \"attr\": {\"T\": {\"type\": \"DT_FLOAT\"}}}, \"constants\": {}}, \"inbound_nodes\": [[[\"input1\", 0, 0, {}], [\"input2\", 0, 0, {}]]]}], \"input_layers\": [[\"input1\", 0, 0], [\"input2\", 0, 0]], \"output_layers\": [[\"add_1\", 0, 0], [\"subtract_1\", 0, 0], [\"multiply_1\", 0, 0], [\"tf_op_layer_Greater_1\", 0, 0], [\"tf_op_layer_Less_1\", 0, 0], [\"tf_op_layer_Maximum_1\", 0, 0], [\"tf_op_layer_Minimum_1\", 0, 0]]}, \"keras_version\": \"2.2.4-tf\", \"backend\": \"tensorflow\"}\n"
     ]
    }
   ],
   "source": [
    "def ArithmeticModel():\n",
    "    input1 = keras.Input(shape=(24,24,3),name='input1')\n",
    "    input2 = keras.Input(shape=(24,24,3),name='input2')\n",
    "    added = keras.layers.Add()([input1, input2])\n",
    "    added2 = input1 + 1\n",
    "    added3 = 1 + 1\n",
    "    subed = keras.layers.Subtract()([input1, input2])\n",
    "    subed2 = subed - added3\n",
    "    muled = keras.layers.Multiply()([input1, input2])\n",
    "    greater = keras.backend.greater(input1, input2)\n",
    "    less = keras.backend.less(input1, input2)\n",
    "    maximum = tf.keras.backend.maximum(input1, input2)\n",
    "    minimum = tf.keras.backend.minimum(input1, input2)\n",
    "    return keras.Model([input1, input2], (added, subed, muled, greater, less, maximum, minimum), name=\"arithmetic\")\n",
    "\n",
    "model = ArithmeticModel()\n",
    "SaveKerasModel(model, 'arithmetic.h5')"
   ]
  },
  {
   "cell_type": "code",
   "execution_count": null,
   "metadata": {},
   "outputs": [],
   "source": [
    "def ReduceModel():\n",
    "    input1 = keras.Input(shape=(24,24,3),name='input1')\n",
    "    mean = keras.backend.mean(input1, axis=(1, 2), keepdims=True)\n",
    "    sum = keras.backend.sum(input1, axis=(1,2), keepdims=True)\n",
    "    max = keras.backend.max(input1, axis=1, keepdims=True)\n",
    "    min = keras.backend.min(input1, axis=2, keepdims=True)\n",
    "#     arg_max = keras.backend.argmax(input1, axis=1)\n",
    "#     arg_min = keras.backend.argmin(input1, axis=2)\n",
    "    return keras.Model(input1, (mean, sum, max, min), name=\"reduce\")\n",
    "\n",
    "model = ReduceModel()\n",
    "SaveKerasModel(model, 'reduce.h5')"
   ]
  },
  {
   "cell_type": "code",
   "execution_count": null,
   "metadata": {},
   "outputs": [],
   "source": [
    "def EmbeddingModel():\n",
    "    x = keras.Input(shape=(10), dtype=tf.int32, name=\"input1\")\n",
    "    y = keras.layers.Embedding(1000, output_dim=64, input_length=10)(x)\n",
    "    return keras.Model(x, (y), name=\"embedding\")\n",
    "\n",
    "model = EmbeddingModel()\n",
    "SaveKerasModel(model, 'embedding.h5')"
   ]
  },
  {
   "cell_type": "code",
   "execution_count": null,
   "metadata": {},
   "outputs": [],
   "source": [
    "def RNNTanhModel():\n",
    "    x = keras.Input(shape=(128,10))\n",
    "    y1 = keras.layers.SimpleRNN(128, return_sequences=False)(x)\n",
    "    y2 = keras.layers.SimpleRNN(128, return_sequences=True)(x)\n",
    "    return keras.Model(x, (y1, y2), name=\"rnn_tanh\")\n",
    "\n",
    "model = RNNTanhModel()\n",
    "SaveKerasModel(model, 'rnn_tanh.h5')"
   ]
  },
  {
   "cell_type": "code",
   "execution_count": null,
   "metadata": {},
   "outputs": [],
   "source": [
    "def RNNReLUModel():\n",
    "    x = keras.Input(shape=(128,10))\n",
    "    y1 = keras.layers.SimpleRNN(128, 'relu', return_sequences=False)(x)\n",
    "    y2 = keras.layers.SimpleRNN(128, 'relu', return_sequences=True)(x)\n",
    "    return keras.Model(x, (y1, y2), name=\"rnn_relu\")\n",
    "\n",
    "model = RNNReLUModel()\n",
    "SaveKerasModel(model, 'rnn_relu.h5')"
   ]
  },
  {
   "cell_type": "code",
   "execution_count": null,
   "metadata": {},
   "outputs": [],
   "source": [
    "def LstmModel():\n",
    "    x = keras.Input(shape=(128, 10))\n",
    "    y1 = keras.layers.LSTM(128, recurrent_activation=\"sigmoid\", return_sequences=False)(x)\n",
    "    y2 = keras.layers.LSTM(128, recurrent_activation=\"sigmoid\", return_sequences=True)(x)\n",
    "    return keras.Model(x, (y1,y2), name=\"lstm\")\n",
    "\n",
    "model = LstmModel()\n",
    "SaveKerasModel(model, 'lstm.h5')"
   ]
  },
  {
   "cell_type": "code",
   "execution_count": null,
   "metadata": {},
   "outputs": [],
   "source": [
    "def GruModel():\n",
    "    x = keras.Input(shape=(128, 10))\n",
    "    y1 = keras.layers.GRU(128, recurrent_activation=\"sigmoid\", return_sequences=False, reset_after=True)(x)\n",
    "    y2 = keras.layers.GRU(128, recurrent_activation=\"sigmoid\", return_sequences=True, reset_after=True)(x)\n",
    "    return keras.Model(x, (y1,y2), name=\"gru\")\n",
    "\n",
    "model = GruModel()\n",
    "SaveKerasModel(model, 'gru.h5')"
   ]
  },
  {
   "cell_type": "code",
   "execution_count": null,
   "metadata": {},
   "outputs": [],
   "source": [
    "def BidirectionalRNNModel():\n",
    "    x = keras.Input(shape=(128,10))\n",
    "    y1 = keras.layers.Bidirectional(keras.layers.SimpleRNN(128, return_sequences=False))(x)\n",
    "    y2 = keras.layers.Bidirectional(keras.layers.SimpleRNN(128, return_sequences=True))(x)\n",
    "    return keras.Model(x, (y1,y2), name=\"bidirectional_rnn\")\n",
    "\n",
    "model = BidirectionalRNNModel()\n",
    "SaveKerasModel(model, 'bidirectional_rnn.h5')"
   ]
  },
  {
   "cell_type": "code",
   "execution_count": null,
   "metadata": {},
   "outputs": [],
   "source": [
    "def BidirectionalLstmModel():\n",
    "    x = keras.Input(shape=(128, 10))\n",
    "    y1 = keras.layers.Bidirectional(keras.layers.LSTM(128, recurrent_activation=\"sigmoid\",  return_sequences=False))(x)\n",
    "    y2 = keras.layers.Bidirectional(keras.layers.LSTM(128, recurrent_activation=\"sigmoid\",  return_sequences=True))(x)\n",
    "    return keras.Model(x, (y1,y2), name=\"bidirectional_lstm\")\n",
    "\n",
    "model = BidirectionalLstmModel()\n",
    "SaveKerasModel(model, 'bidirectional_lstm.h5')"
   ]
  },
  {
   "cell_type": "code",
   "execution_count": null,
   "metadata": {},
   "outputs": [],
   "source": [
    "def BidirectionalGruModel():\n",
    "    x = keras.Input(shape=(128, 10))\n",
    "    y1 = keras.layers.Bidirectional(keras.layers.GRU(128, recurrent_activation=\"sigmoid\",  return_sequences=False, reset_after=True))(x)\n",
    "    y2 = keras.layers.Bidirectional(keras.layers.GRU(128, recurrent_activation=\"sigmoid\",  return_sequences=True, reset_after=True))(x)\n",
    "    return keras.Model(x, (y1,y2), name=\"bidirectional_gru\")\n",
    "\n",
    "model = BidirectionalGruModel()\n",
    "SaveKerasModel(model, 'bidirectional_gru.h5')"
   ]
  },
  {
   "cell_type": "code",
   "execution_count": null,
   "metadata": {},
   "outputs": [],
   "source": [
    "# InceptionV3\n",
    "model = tf.keras.applications.InceptionV3(weights=\"imagenet\", include_top=False, input_shape=(224, 224, 3))\n",
    "SaveKerasModel(model, 'inception_v3.h5')"
   ]
  },
  {
   "cell_type": "code",
   "execution_count": null,
   "metadata": {},
   "outputs": [],
   "source": [
    "# Vgg19\n",
    "model = tf.keras.applications.VGG19(weights=\"imagenet\", include_top=False, input_shape=(224, 224, 3))\n",
    "SaveKerasModel(model, 'vgg19.h5')"
   ]
  },
  {
   "cell_type": "code",
   "execution_count": null,
   "metadata": {},
   "outputs": [],
   "source": [
    "# ResNet152V2\n",
    "model = tf.keras.applications.ResNet152V2(weights=\"imagenet\", include_top=False, input_shape=(224, 224, 3))\n",
    "SaveKerasModel(model, 'resnet152_v2.h5')"
   ]
  },
  {
   "cell_type": "code",
   "execution_count": null,
   "metadata": {},
   "outputs": [],
   "source": [
    "# DenseNet201\n",
    "model = tf.keras.applications.DenseNet201(weights=\"imagenet\", include_top=False, input_shape=(224, 224, 3))\n",
    "SaveKerasModel(model, 'densenet201.h5')"
   ]
  },
  {
   "cell_type": "code",
   "execution_count": null,
   "metadata": {},
   "outputs": [],
   "source": [
    "# MobileNetV2\n",
    "model = tf.keras.applications.MobileNetV2(weights=\"imagenet\", include_top=False, input_shape=(224, 224, 3))\n",
    "SaveKerasModel(model, 'mobilenet_v2.h5')"
   ]
  },
  {
   "cell_type": "code",
   "execution_count": null,
   "metadata": {},
   "outputs": [],
   "source": [
    "# Xception\n",
    "model = tf.keras.applications.Xception(weights=\"imagenet\", include_top=False, input_shape=(224, 224, 3))\n",
    "SaveKerasModel(model, 'xception.h5')"
   ]
  },
  {
   "cell_type": "code",
   "execution_count": null,
   "metadata": {},
   "outputs": [],
   "source": [
    "# InceptionResNetV2\n",
    "model = tf.keras.applications.InceptionResNetV2(weights=\"imagenet\", include_top=False, input_shape=(224, 224, 3))\n",
    "SaveKerasModel(model, 'inception_resnet_v2.h5')"
   ]
  },
  {
   "cell_type": "code",
   "execution_count": null,
   "metadata": {},
   "outputs": [],
   "source": [
    "# NASNetLarge\n",
    "model = tf.keras.applications.NASNetLarge(weights=\"imagenet\", include_top=False, input_shape=(331, 331, 3))\n",
    "SaveKerasModel(model, 'nasnet_large.h5')"
   ]
  },
  {
   "cell_type": "code",
   "execution_count": null,
   "metadata": {},
   "outputs": [],
   "source": [
    "model = tf.keras.models.load_model('LTD-BERT.h5', compile=False)"
   ]
  },
  {
   "cell_type": "code",
   "execution_count": null,
   "metadata": {},
   "outputs": [],
   "source": [
    "SaveModel(model, \"ltd_bert\")"
   ]
  },
  {
   "cell_type": "code",
   "execution_count": null,
   "metadata": {},
   "outputs": [],
   "source": [
    "tf.keras.applications."
   ]
  }
 ],
 "metadata": {
  "kernelspec": {
   "display_name": "tf1",
   "language": "python",
   "name": "tf1"
  },
  "language_info": {
   "codemirror_mode": {
    "name": "ipython",
    "version": 3
   },
   "file_extension": ".py",
   "mimetype": "text/x-python",
   "name": "python",
   "nbconvert_exporter": "python",
   "pygments_lexer": "ipython3",
   "version": "3.6.13"
  }
 },
 "nbformat": 4,
 "nbformat_minor": 4
}

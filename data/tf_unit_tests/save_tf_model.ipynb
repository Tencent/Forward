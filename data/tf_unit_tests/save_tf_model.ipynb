{
 "cells": [
  {
   "cell_type": "code",
   "execution_count": 1,
   "metadata": {},
   "outputs": [],
   "source": [
    "import numpy as np\n",
    "\n",
    "import tensorflow as tf\n",
    "import tensorflow.keras as keras\n",
    "from tensorflow.python.framework.graph_util import convert_variables_to_constants\n",
    "\n",
    "from tensorflow.keras import backend as K\n",
    "from tensorflow.python.framework.graph_util import convert_variables_to_constants\n",
    "\n",
    "K.set_learning_phase(0)"
   ]
  },
  {
   "cell_type": "code",
   "execution_count": null,
   "metadata": {
    "scrolled": true
   },
   "outputs": [],
   "source": [
    "def SaveTopKModel(model_name):\n",
    "    with tf.Session(graph=tf.Graph()) as sess:\n",
    "        input = tf.placeholder(shape=[128, 16], dtype=tf.float32, name='input')\n",
    "        op_topk = tf.math.top_k(input=input, k=3, name='topkv2/TopKV2')\n",
    "        \n",
    "        sess.run(tf.global_variables_initializer())\n",
    "        frozen_graph = convert_variables_to_constants(sess, sess.graph_def, ['topkv2/TopKV2'])\n",
    "        \n",
    "        feed_dict = {input: np.random.rand(128, 16)}\n",
    "        sess.run(op_topk, feed_dict)\n",
    "\n",
    "        with tf.gfile.FastGFile(model_name, mode='wb') as f:\n",
    "            f.write(frozen_graph.SerializeToString())\n",
    "            \n",
    "SaveTopKModel('topk.pb')"
   ]
  },
  {
   "cell_type": "code",
   "execution_count": null,
   "metadata": {},
   "outputs": [],
   "source": [
    "def SaveFillModel(model_name):\n",
    "    with tf.Session(graph=tf.Graph()) as sess:\n",
    "        input = tf.placeholder(shape=[128, 16], dtype=tf.float32, name='input')\n",
    "        fill = tf.fill(np.array([128, 16], dtype=np.int32), np.float32(-1.5), name='fill/Fill')\n",
    "        concat = tf.concat([input, fill], 0, name='concat/Concat')\n",
    "        \n",
    "        sess.run(tf.global_variables_initializer())\n",
    "        frozen_graph = convert_variables_to_constants(sess, sess.graph_def, ['concat/Concat'])\n",
    "        \n",
    "        feed_dict = {input: np.random.rand(128, 16)}\n",
    "        sess.run(concat, feed_dict)\n",
    "\n",
    "        with tf.gfile.FastGFile(model_name, mode='wb') as f:\n",
    "            f.write(frozen_graph.SerializeToString())\n",
    "            \n",
    "SaveFillModel('fill.pb')"
   ]
  },
  {
   "cell_type": "code",
   "execution_count": 3,
   "metadata": {},
   "outputs": [
    {
     "name": "stdout",
     "output_type": "stream",
     "text": [
      "INFO:tensorflow:Froze 0 variables.\n",
      "INFO:tensorflow:Converted 0 variables to const ops.\n"
     ]
    }
   ],
   "source": [
    "def SaveUnaryModel(model_name):\n",
    "    with tf.Session(graph=tf.Graph()) as sess:\n",
    "        input = tf.placeholder(shape=[128, 16], dtype=tf.float32, name='input')\n",
    "        rsqrt = tf.math.rsqrt(input, name='unary/Unary')\n",
    "        \n",
    "        sess.run(tf.global_variables_initializer())\n",
    "        frozen_graph = convert_variables_to_constants(sess, sess.graph_def, ['unary/Unary'])\n",
    "        \n",
    "        feed_dict = {input: np.random.rand(128, 16)}\n",
    "        sess.run(rsqrt, feed_dict)\n",
    "\n",
    "        with tf.gfile.FastGFile(model_name, mode='wb') as f:\n",
    "            f.write(frozen_graph.SerializeToString())\n",
    "            \n",
    "SaveUnaryModel('unary.pb')"
   ]
  },
  {
   "cell_type": "code",
   "execution_count": null,
   "metadata": {},
   "outputs": [],
   "source": []
  }
 ],
 "metadata": {
  "kernelspec": {
   "display_name": "tf1",
   "language": "python",
   "name": "tf1"
  },
  "language_info": {
   "codemirror_mode": {
    "name": "ipython",
    "version": 3
   },
   "file_extension": ".py",
   "mimetype": "text/x-python",
   "name": "python",
   "nbconvert_exporter": "python",
   "pygments_lexer": "ipython3",
   "version": "3.6.13"
  }
 },
 "nbformat": 4,
 "nbformat_minor": 4
}

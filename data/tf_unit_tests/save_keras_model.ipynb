{
 "cells": [
  {
   "cell_type": "code",
   "execution_count": null,
   "metadata": {},
   "outputs": [],
   "source": [
    "import tensorflow as tf\n",
    "import tensorflow.keras as keras\n",
    "from tensorflow.python.framework.graph_util import convert_variables_to_constants\n",
    "\n",
    "from tensorflow.keras import backend as K\n",
    "from tensorflow.python.framework.graph_util import convert_variables_to_constants\n",
    "\n",
    "K.set_learning_phase(0)\n",
    "\n",
    "def freeze_session(session, keep_var_names=None, output_names=None, clear_devices=True):\n",
    "    \"\"\"\n",
    "    Freezes the state of a session into a pruned computation graph.\n",
    "\n",
    "    Creates a new computation graph where variable nodes are replaced by\n",
    "    constants taking their current value in the session. The new graph will be\n",
    "    pruned so subgraphs that are not necessary to compute the requested\n",
    "    outputs are removed.\n",
    "    @param session The TensorFlow session to be frozen.\n",
    "    @param keep_var_names A list of variable names that should not be frozen,\n",
    "                          or None to freeze all the variables in the graph.\n",
    "    @param output_names Names of the relevant graph outputs.\n",
    "    @param clear_devices Remove the device directives from the graph for better portability.\n",
    "    @return The frozen graph definition.\n",
    "    \"\"\"\n",
    "    print(output_names)\n",
    "    graph = session.graph\n",
    "    with graph.as_default():\n",
    "        freeze_var_names = list(set(v.op.name for v in tf.global_variables()).difference(keep_var_names or []))\n",
    "        output_names = output_names or []\n",
    "#         output_names += [v.op.name for v in tf.global_variables()]\n",
    "        # Graph -> GraphDef ProtoBuf\n",
    "        input_graph_def = graph.as_graph_def()\n",
    "        if clear_devices:\n",
    "            for node in input_graph_def.node:\n",
    "                node.device = \"\"\n",
    "        frozen_graph = convert_variables_to_constants(session, input_graph_def,\n",
    "                                                      output_names, freeze_var_names)\n",
    "        return frozen_graph\n",
    "    \n",
    "def SaveModel(model, model_name, output_names=None):\n",
    "    if output_names is None:\n",
    "        output_names = [out.op.name for out in model.outputs]\n",
    "    frozen_graph = freeze_session(K.get_session(), output_names=output_names)\n",
    "    # Save \n",
    "    tf.train.write_graph(frozen_graph, \".\", model_name + \".pb\", as_text=False)\n",
    "    \n",
    "def LoadKerasModel(name):\n",
    "    return keras.models.load_model(name)"
   ]
  },
  {
   "cell_type": "code",
   "execution_count": null,
   "metadata": {},
   "outputs": [],
   "source": [
    "import numpy as np\n",
    "import os\n",
    "\n",
    "\n",
    "def create_depth_to_space(model_file):\n",
    "    import tensorflow as tf\n",
    "    import tf_slim as slim\n",
    "    with tf.Session() as sess:\n",
    "        x1 = tf.placeholder(shape=(None,12,24,16),dtype=tf.float32, name='x')\n",
    "\n",
    "        op = tf.depth_to_space(x1, 2)\n",
    "\n",
    "        sess.run(tf.global_variables_initializer())\n",
    "        feed_dict = {x1: np.ones((1,12,24,16))}\n",
    "#         print(sess.run(op, feed_dict))\n",
    "\n",
    "        graphdef = tf.graph_util.convert_variables_to_constants(sess, sess.graph_def, ['DepthToSpace'])\n",
    "        tf.train.write_graph(graphdef, './', model_file, as_text=False)\n",
    "\n",
    "\n",
    "model_file = 'depth_to_space.pb'\n",
    "create_depth_to_space(model_file)"
   ]
  },
  {
   "cell_type": "code",
   "execution_count": null,
   "metadata": {},
   "outputs": [],
   "source": [
    "model = LoadKerasModel('../keras_unit_tests/activation.h5')\n",
    "SaveModel(model, 'activation')"
   ]
  },
  {
   "cell_type": "code",
   "execution_count": null,
   "metadata": {},
   "outputs": [],
   "source": [
    "model = LoadKerasModel('../keras_unit_tests/average_pooling.h5')\n",
    "SaveModel(model, 'average_pooling')"
   ]
  },
  {
   "cell_type": "code",
   "execution_count": null,
   "metadata": {},
   "outputs": [],
   "source": [
    "model = LoadKerasModel('../keras_unit_tests/batch_norm.h5')\n",
    "SaveModel(model, 'batch_norm')"
   ]
  },
  {
   "cell_type": "code",
   "execution_count": null,
   "metadata": {},
   "outputs": [],
   "source": [
    "model = LoadKerasModel('../keras_unit_tests/concatenate.h5')\n",
    "SaveModel(model, 'concatenate')"
   ]
  },
  {
   "cell_type": "code",
   "execution_count": null,
   "metadata": {},
   "outputs": [],
   "source": [
    "model = LoadKerasModel('../keras_unit_tests/conv1d.h5')\n",
    "SaveModel(model, 'conv1d')"
   ]
  },
  {
   "cell_type": "code",
   "execution_count": null,
   "metadata": {},
   "outputs": [],
   "source": [
    "model = LoadKerasModel('../keras_unit_tests/conv2d.h5')\n",
    "SaveModel(model, 'conv2d')"
   ]
  },
  {
   "cell_type": "code",
   "execution_count": null,
   "metadata": {},
   "outputs": [],
   "source": [
    "model = LoadKerasModel('../keras_unit_tests/conv2d_activation.h5')\n",
    "SaveModel(model, 'conv2d_activation', ['conv2d/Relu', 'conv2d/BiasAdd'])"
   ]
  },
  {
   "cell_type": "code",
   "execution_count": null,
   "metadata": {},
   "outputs": [],
   "source": [
    "model = LoadKerasModel('../keras_unit_tests/cropping2d.h5')\n",
    "SaveModel(model, 'cropping2d')"
   ]
  },
  {
   "cell_type": "code",
   "execution_count": null,
   "metadata": {},
   "outputs": [],
   "source": [
    "model = LoadKerasModel('../keras_unit_tests/deconv2d.h5')\n",
    "SaveModel(model, 'deconv2d')"
   ]
  },
  {
   "cell_type": "code",
   "execution_count": null,
   "metadata": {},
   "outputs": [],
   "source": [
    "model = LoadKerasModel('../keras_unit_tests/dense.h5')\n",
    "SaveModel(model, 'dense')"
   ]
  },
  {
   "cell_type": "code",
   "execution_count": null,
   "metadata": {},
   "outputs": [],
   "source": [
    "model = LoadKerasModel('../keras_unit_tests/split.h5')\n",
    "SaveModel(model, 'split')"
   ]
  },
  {
   "cell_type": "code",
   "execution_count": null,
   "metadata": {},
   "outputs": [],
   "source": [
    "model = LoadKerasModel('../keras_unit_tests/depthwise_conv2d.h5')\n",
    "SaveModel(model, 'depthwise_conv2d')"
   ]
  },
  {
   "cell_type": "code",
   "execution_count": null,
   "metadata": {},
   "outputs": [],
   "source": [
    "model = LoadKerasModel('../keras_unit_tests/dropout.h5')\n",
    "SaveModel(model, 'dropout')"
   ]
  },
  {
   "cell_type": "code",
   "execution_count": null,
   "metadata": {},
   "outputs": [],
   "source": [
    "model = LoadKerasModel('../keras_unit_tests/flatten.h5')\n",
    "SaveModel(model, 'flatten')"
   ]
  },
  {
   "cell_type": "code",
   "execution_count": null,
   "metadata": {},
   "outputs": [],
   "source": [
    "model = LoadKerasModel('../keras_unit_tests/leaky_relu.h5')\n",
    "SaveModel(model, 'leaky_relu')"
   ]
  },
  {
   "cell_type": "code",
   "execution_count": null,
   "metadata": {},
   "outputs": [],
   "source": [
    "model = LoadKerasModel('../keras_unit_tests/max_pooling.h5')\n",
    "SaveModel(model, 'max_pooling')"
   ]
  },
  {
   "cell_type": "code",
   "execution_count": null,
   "metadata": {},
   "outputs": [],
   "source": [
    "model = LoadKerasModel('../keras_unit_tests/permute.h5')\n",
    "SaveModel(model, 'permute')"
   ]
  },
  {
   "cell_type": "code",
   "execution_count": null,
   "metadata": {},
   "outputs": [],
   "source": [
    "model = LoadKerasModel('../keras_unit_tests/prelu.h5')\n",
    "SaveModel(model, 'prelu')"
   ]
  },
  {
   "cell_type": "code",
   "execution_count": null,
   "metadata": {},
   "outputs": [],
   "source": [
    "model = LoadKerasModel('../keras_unit_tests/reshape.h5')\n",
    "SaveModel(model, 'reshape')"
   ]
  },
  {
   "cell_type": "code",
   "execution_count": null,
   "metadata": {},
   "outputs": [],
   "source": [
    "model = LoadKerasModel('../keras_unit_tests/separable_conv2d.h5')\n",
    "SaveModel(model, 'separable_conv2d')"
   ]
  },
  {
   "cell_type": "code",
   "execution_count": null,
   "metadata": {},
   "outputs": [],
   "source": [
    "model = LoadKerasModel('../keras_unit_tests/softmax.h5')\n",
    "SaveModel(model, 'softmax')"
   ]
  },
  {
   "cell_type": "code",
   "execution_count": null,
   "metadata": {},
   "outputs": [],
   "source": [
    "model = LoadKerasModel('../keras_unit_tests/upsampling_bilinear_2d.h5')\n",
    "SaveModel(model,'upsampling_bilinear_2d')"
   ]
  },
  {
   "cell_type": "code",
   "execution_count": null,
   "metadata": {},
   "outputs": [],
   "source": [
    "model = LoadKerasModel('../keras_unit_tests/upsampling_nearest_2d.h5')\n",
    "SaveModel(model, 'upsampling_nearest_2d')"
   ]
  },
  {
   "cell_type": "code",
   "execution_count": null,
   "metadata": {},
   "outputs": [],
   "source": [
    "model = LoadKerasModel('../keras_unit_tests/zero_padding_2d.h5')\n",
    "SaveModel(model, 'zero_padding_2d')"
   ]
  },
  {
   "cell_type": "code",
   "execution_count": null,
   "metadata": {
    "scrolled": true
   },
   "outputs": [],
   "source": [
    "model = LoadKerasModel('../keras_unit_tests/arithmetic.h5')\n",
    "SaveModel(model, 'arithmetic')"
   ]
  },
  {
   "cell_type": "code",
   "execution_count": null,
   "metadata": {},
   "outputs": [],
   "source": [
    "model = LoadKerasModel('../keras_unit_tests/reduce.h5')\n",
    "SaveModel(model, 'reduce')"
   ]
  },
  {
   "cell_type": "code",
   "execution_count": null,
   "metadata": {},
   "outputs": [],
   "source": [
    "model = LoadKerasModel('../keras_unit_tests/embedding.h5')\n",
    "SaveModel(model, 'embedding')"
   ]
  },
  {
   "cell_type": "code",
   "execution_count": null,
   "metadata": {},
   "outputs": [],
   "source": [
    "model = LoadKerasModel('../keras_unit_tests/rnn_tanh.h5')\n",
    "SaveModel(model, 'rnn_tanh')"
   ]
  },
  {
   "cell_type": "code",
   "execution_count": null,
   "metadata": {},
   "outputs": [],
   "source": [
    "model = LoadKerasModel('../keras_unit_tests/rnn_relu.h5')\n",
    "SaveModel(model, 'rnn_relu')"
   ]
  },
  {
   "cell_type": "code",
   "execution_count": null,
   "metadata": {},
   "outputs": [],
   "source": [
    "model = LoadKerasModel('../keras_unit_tests/gru.h5')\n",
    "SaveModel(model, 'gru')"
   ]
  },
  {
   "cell_type": "code",
   "execution_count": null,
   "metadata": {},
   "outputs": [],
   "source": [
    "model = LoadKerasModel('../keras_unit_tests/bidirectional_rnn.h5')\n",
    "SaveModel(model, 'bidirectional_rnn')"
   ]
  },
  {
   "cell_type": "code",
   "execution_count": null,
   "metadata": {},
   "outputs": [],
   "source": [
    "model = LoadKerasModel('../keras_unit_tests/bidirectional_lstm.h5')\n",
    "SaveModel(model, 'bidirectional_lstm')"
   ]
  },
  {
   "cell_type": "code",
   "execution_count": null,
   "metadata": {},
   "outputs": [],
   "source": [
    "model = LoadKerasModel('../keras_unit_tests/bidirectional_gru.h5')\n",
    "SaveModel(model, 'bidirectional_gru')"
   ]
  },
  {
   "cell_type": "code",
   "execution_count": null,
   "metadata": {},
   "outputs": [],
   "source": [
    "model = LoadKerasModel('../keras_unit_tests/lstm.h5')\n",
    "SaveModel(model, 'lstm')"
   ]
  },
  {
   "cell_type": "code",
   "execution_count": null,
   "metadata": {},
   "outputs": [],
   "source": [
    "model = LoadKerasModel('../keras_unit_tests/LTD-BERT.h5')\n",
    "SaveModel(model, 'LTD-BERT')"
   ]
  },
  {
   "cell_type": "code",
   "execution_count": null,
   "metadata": {},
   "outputs": [],
   "source": [
    "# InceptionV3\n",
    "model = LoadKerasModel('inception_v3.h5')\n",
    "SaveModel(model, 'inception_v3')"
   ]
  },
  {
   "cell_type": "code",
   "execution_count": null,
   "metadata": {},
   "outputs": [],
   "source": [
    "# Vgg19\n",
    "model = LoadKerasModel('vgg19.h5')\n",
    "SaveModel(model, 'vgg19')"
   ]
  },
  {
   "cell_type": "code",
   "execution_count": null,
   "metadata": {},
   "outputs": [],
   "source": [
    "# ResNet152V2\n",
    "model = LoadKerasModel('resnet152_v2.h5')\n",
    "SaveModel(model, 'resnet152_v2')"
   ]
  },
  {
   "cell_type": "code",
   "execution_count": null,
   "metadata": {},
   "outputs": [],
   "source": [
    "# DenseNet201\n",
    "model = LoadKerasModel('densenet201.h5')\n",
    "SaveModel(model, 'densenet201')"
   ]
  },
  {
   "cell_type": "code",
   "execution_count": null,
   "metadata": {},
   "outputs": [],
   "source": [
    "# MobileNetV2\n",
    "model = LoadKerasModel('mobilenet_v2.h5')\n",
    "SaveModel(model, 'mobilenet_v2')"
   ]
  },
  {
   "cell_type": "code",
   "execution_count": null,
   "metadata": {},
   "outputs": [],
   "source": [
    "# Xception\n",
    "model = LoadKerasModel('xception.h5')\n",
    "SaveModel(model, 'xception')"
   ]
  },
  {
   "cell_type": "code",
   "execution_count": null,
   "metadata": {},
   "outputs": [],
   "source": [
    "# InceptionResNetV2\n",
    "model = LoadKerasModel('inception_resnet_v2.h5')\n",
    "SaveModel(model, 'inception_resnet_v2')"
   ]
  },
  {
   "cell_type": "code",
   "execution_count": null,
   "metadata": {},
   "outputs": [],
   "source": [
    "# NASNetLarge\n",
    "model = LoadKerasModel('nasnet_large.h5')\n",
    "SaveModel(model, 'nasnet_large')"
   ]
  },
  {
   "cell_type": "code",
   "execution_count": null,
   "metadata": {},
   "outputs": [],
   "source": [
    "model = tf.keras.models.load_model('LTD-BERT.h5', compile=False)"
   ]
  },
  {
   "cell_type": "code",
   "execution_count": null,
   "metadata": {},
   "outputs": [],
   "source": [
    "SaveModel(model, \"ltd_bert\")"
   ]
  },
  {
   "cell_type": "code",
   "execution_count": null,
   "metadata": {},
   "outputs": [],
   "source": [
    "# export bert model\n",
    "import modeling\n",
    "\n",
    "pathname = \"../tiny_bert/bert_model.ckpt\" # 模型地址\n",
    "bert_config = modeling.BertConfig.from_json_file(\"../tiny_bert/bert_config.json\")# 配置文件地址。\n",
    "configsession = tf.ConfigProto()\n",
    "configsession.gpu_options.allow_growth = True\n",
    "sess = tf.Session(config=configsession)\n",
    "input_ids = tf.placeholder(shape=[None, 64], dtype=tf.int32, name=\"input_ids\")\n",
    "input_mask = tf.placeholder(shape=[None, 64], dtype=tf.int32, name=\"input_mask\")\n",
    "segment_ids = tf.placeholder(shape=[None, 64], dtype=tf.int32, name=\"segment_ids\")\n",
    "\n",
    "with sess.as_default():\n",
    "    model = modeling.BertModel(\n",
    "        config=bert_config,\n",
    "        is_training=False,\n",
    "        input_ids=input_ids,\n",
    "        input_mask=input_mask,\n",
    "        token_type_ids=segment_ids,\n",
    "        use_one_hot_embeddings=True)\n",
    "    saver = tf.train.Saver()\n",
    "    sess.run(tf.global_variables_initializer())# 这里尤其注意，先初始化，在加载参数，否者会把bert的参数重新初始化。这里和demo1是有区别的\n",
    "    saver.restore(sess, pathname)\n",
    "    \n",
    "    frozen_graph = freeze_session(sess, output_names=['bert/encoder/Reshape_3'])\n",
    "#         frozen_graph = freeze_session(sess, output_names=['bert/pooler/dense/Tanh'])\n",
    "    # Save \n",
    "    tf.train.write_graph(frozen_graph, \".\", \"tiny_bert.pb\", as_text=False)"
   ]
  },
  {
   "cell_type": "code",
   "execution_count": null,
   "metadata": {},
   "outputs": [],
   "source": []
  }
 ],
 "metadata": {
  "kernelspec": {
   "display_name": "Python 3",
   "language": "python",
   "name": "python3"
  },
  "language_info": {
   "codemirror_mode": {
    "name": "ipython",
    "version": 3
   },
   "file_extension": ".py",
   "mimetype": "text/x-python",
   "name": "python",
   "nbconvert_exporter": "python",
   "pygments_lexer": "ipython3",
   "version": "3.7.6"
  }
 },
 "nbformat": 4,
 "nbformat_minor": 4
}
